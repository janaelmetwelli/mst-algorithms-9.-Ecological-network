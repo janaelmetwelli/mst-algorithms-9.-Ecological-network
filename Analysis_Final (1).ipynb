{
  "cells": [
    {
      "cell_type": "markdown",
      "metadata": {
        "id": "mFcCO_ybir1t"
      },
      "source": [
        "# **One: Data Prepossesing and importing libraries**"
      ]
    },
    {
      "cell_type": "code",
      "execution_count": null,
      "metadata": {
        "id": "dGeizdOui9JT"
      },
      "outputs": [],
      "source": [
        "from google.colab import drive\n",
        "drive.mount('/content/drive')"
      ]
    },
    {
      "cell_type": "code",
      "execution_count": null,
      "metadata": {
        "id": "mh2S5zKOwsWx"
      },
      "outputs": [],
      "source": [
        "!ls /content/drive/MyDrive/analysis\n"
      ]
    },
    {
      "cell_type": "code",
      "execution_count": null,
      "metadata": {
        "id": "MtkwJeLYjCIC"
      },
      "outputs": [],
      "source": [
        "import networkx as nx\n",
        "import pandas as pd\n",
        "import matplotlib.pyplot as plt\n",
        "plt.rcParams['animation.embed_limit'] = 100\n",
        "import numpy as np\n",
        "import seaborn as sns\n",
        "# Standard library imports\n",
        "import time\n",
        "import random\n",
        "import heapq\n",
        "from collections import defaultdict\n",
        "import os\n",
        "import sys\n",
        "\n",
        "# Video creation imports\n",
        "import imageio\n",
        "from matplotlib import animation\n",
        "import matplotlib.animation as animation\n",
        "\n",
        "# Interactive visualization imports\n",
        "import plotly.graph_objects as go\n",
        "import plotly.express as px\n",
        "from IPython.display import HTML\n",
        "!apt-get install -y ffmpeg"
      ]
    },
    {
      "cell_type": "code",
      "execution_count": null,
      "metadata": {
        "id": "mMAUARkpjHjL"
      },
      "outputs": [],
      "source": [
        "def load_and_preprocess_network(filename):#function to read a graph from a file\n",
        "  G=nx.read_edgelist(filename, data=((\"weight\", float),))\n",
        "  return G"
      ]
    },
    {
      "cell_type": "markdown",
      "metadata": {
        "id": "WY4Aa28HjP2L"
      },
      "source": [
        "# **Two: Data Structure**"
      ]
    },
    {
      "cell_type": "code",
      "execution_count": null,
      "metadata": {
        "id": "-x9dmZPejQFS"
      },
      "outputs": [],
      "source": [
        "class UnionFind:\n",
        "    def __init__(self, n):\n",
        "        self.parent = list(range(n))\n",
        "        self.rank = [0] * n\n",
        "\n",
        "    def find(self, x):#sets root of the node's current parent as it's parent to avoid increasing the depth of the tree\n",
        "        if self.parent[x] != x:\n",
        "            self.parent[x] = self.find(self.parent[x])\n",
        "        return self.parent[x]\n",
        "\n",
        "    def union(self, x, y):\n",
        "        px, py = self.find(x), self.find(y)\n",
        "        if px == py:\n",
        "            return False\n",
        "        if self.rank[px] < self.rank[py]:\n",
        "            px, py = py, px\n",
        "        self.parent[py] = px\n",
        "        if self.rank[px] == self.rank[py]:\n",
        "            self.rank[px] += 1\n",
        "        return True"
      ]
    },
    {
      "cell_type": "markdown",
      "metadata": {
        "id": "XGp1mEz7jIT4"
      },
      "source": [
        "# **Three: Algorithms**"
      ]
    },
    {
      "cell_type": "code",
      "execution_count": null,
      "metadata": {
        "id": "kQQr8ViyjMXK"
      },
      "outputs": [],
      "source": [
        "\n",
        "def kruskal_mst_incremental(G):\n",
        "    n = G.number_of_nodes()#gets the number of nodes to know when to break out of the loop\n",
        "    node_map = {node: i for i, node in enumerate(G.nodes())}#maps each node to a unique integer as it is used later on as integer indicies\n",
        "    uf = UnionFind(n)#initalize a disjoint set union with n elements the algroithm uses it later on to check for cycles\n",
        "\n",
        "    # Edge format: (u, v, weight) extracts all edges\n",
        "    edges = [(u, v, G[u][v]['weight']) for u, v in G.edges()]#this format is needed to sort them and process them in ascending order\n",
        "    edges.sort(key=lambda x: x[2])#sorts the edges based on their weights\n",
        "\n",
        "    mst_edges = []\n",
        "\n",
        "    for u, v, weight in edges:#loops over the edges\n",
        "        u_idx, v_idx = node_map[u], node_map[v]#retrieves the unique integer for each node\n",
        "        if uf.union(u_idx, v_idx):#checks if these two nodes are in disjoint components (checks for a cycle)\n",
        "            mst_edges.append((u, v, weight))\n",
        "            if len(mst_edges) == n - 1:\n",
        "                break\n",
        "\n",
        "    return mst_edges"
      ]
    },
    {
      "cell_type": "code",
      "execution_count": null,
      "metadata": {
        "id": "Pd8EpSYdjMZG"
      },
      "outputs": [],
      "source": [
        "def prim_mst_incremental(G):\n",
        "    start_node = next(iter(G.nodes()))\n",
        "    mst_edges = []\n",
        "    visited = {start_node}\n",
        "\n",
        "    # Priority queue: (weight, node1, node2)\n",
        "    heap = []\n",
        "    for neighbor in G.neighbors(start_node):\n",
        "        heapq.heappush(heap, (G[start_node][neighbor]['weight'], start_node, neighbor))\n",
        "\n",
        "    while heap and len(visited) < G.number_of_nodes():\n",
        "        weight, u, v = heapq.heappop(heap)\n",
        "\n",
        "        if v in visited:\n",
        "            continue\n",
        "\n",
        "        visited.add(v)\n",
        "        mst_edges.append((u, v, weight))\n",
        "\n",
        "        for neighbor in G.neighbors(v):\n",
        "            if neighbor not in visited:\n",
        "                heapq.heappush(heap, (G[v][neighbor]['weight'], v, neighbor))\n",
        "\n",
        "    return mst_edges"
      ]
    },
    {
      "cell_type": "code",
      "execution_count": null,
      "metadata": {
        "id": "_VTAZMb3t_iV"
      },
      "outputs": [],
      "source": [
        "import heapq\n",
        "\n",
        "def prim_mst_incremental_using_adj(adj_list):\n",
        "    visited = set()\n",
        "    mst_edges = []\n",
        "\n",
        "    start_node = list(adj_list.keys())[0]\n",
        "    visited.add(start_node)\n",
        "    heap = []\n",
        "\n",
        "    for neighbor, weight in adj_list[start_node]:\n",
        "        heapq.heappush(heap, (weight, start_node, neighbor))\n",
        "\n",
        "    while heap and len(visited) < len(adj_list):\n",
        "        weight, u, v = heapq.heappop(heap)\n",
        "        if v in visited:\n",
        "            continue\n",
        "        visited.add(v)\n",
        "        mst_edges.append((u, v, weight))\n",
        "        for neighbor, w in adj_list[v]:\n",
        "            if neighbor not in visited:\n",
        "                heapq.heappush(heap, (w, v, neighbor))\n",
        "\n",
        "    return mst_edges"
      ]
    },
    {
      "cell_type": "code",
      "execution_count": null,
      "metadata": {
        "id": "xPWhbxf_jeir"
      },
      "outputs": [],
      "source": [
        "def boruvka_mst_incremental(G):\n",
        "    n = G.number_of_nodes()\n",
        "    node_map = {node: i for i, node in enumerate(G.nodes())}\n",
        "    uf = UnionFind(n)\n",
        "\n",
        "    mst_edges = []\n",
        "\n",
        "    while len(mst_edges) < n - 1:\n",
        "        cheapest = [-1] * n\n",
        "\n",
        "        for u, v in G.edges():\n",
        "            weight = G[u][v]['weight']\n",
        "            u_idx, v_idx = node_map[u], node_map[v]\n",
        "            comp_u, comp_v = uf.find(u_idx), uf.find(v_idx)\n",
        "\n",
        "            if comp_u != comp_v:\n",
        "                if cheapest[comp_u] == -1 or weight < cheapest[comp_u][0]:\n",
        "                    cheapest[comp_u] = (weight, u, v)\n",
        "                if cheapest[comp_v] == -1 or weight < cheapest[comp_v][0]:\n",
        "                    cheapest[comp_v] = (weight, u, v)\n",
        "\n",
        "        for edge_info in cheapest:\n",
        "            if edge_info != -1:\n",
        "                weight, u, v = edge_info\n",
        "                u_idx, v_idx = node_map[u], node_map[v]\n",
        "                if uf.union(u_idx, v_idx):\n",
        "                    mst_edges.append((u, v, weight))\n",
        "\n",
        "    return mst_edges"
      ]
    },
    {
      "cell_type": "code",
      "execution_count": null,
      "metadata": {
        "id": "u5Xr7pgSjgkF"
      },
      "outputs": [],
      "source": [
        "def reverse_delete_mst_incremental(G):\n",
        "    edges = [(G[u][v]['weight'], u, v) for u, v in G.edges()]\n",
        "    edges.sort(reverse=True)  # Start with heaviest edges\n",
        "\n",
        "    current_graph = G.copy()\n",
        "    removed_edges = []\n",
        "\n",
        "    for weight, u, v in edges:\n",
        "        current_graph.remove_edge(u, v)#removes the edge\n",
        "        if not nx.is_connected(current_graph):#checks if the graph becomess disconnected\n",
        "            current_graph.add_edge(u, v, weight=weight)#if true then it can't remove this edge and adds it back to the graph\n",
        "        else:\n",
        "            removed_edges.append((u, v, weight))#else the edge it removed and added to the list of removed edges\n",
        "\n",
        "    mst_edges = [(u, v, current_graph[u][v]['weight']) for u, v in current_graph.edges()]#the remaining edges are the ones which form the mst\n",
        "    return mst_edges #to return the mst of the graph"
      ]
    },
    {
      "cell_type": "code",
      "execution_count": null,
      "metadata": {
        "id": "taIKLiS-jkWf"
      },
      "outputs": [],
      "source": [
        "import random\n",
        "\n",
        "def karger_modified_mst(G, iterations=100):\n",
        "    best_mst = []\n",
        "    best_cost = float('inf')\n",
        "    nodes = list(G.nodes())\n",
        "\n",
        "    for _ in range(iterations):\n",
        "        edges = list(G.edges(data=True))\n",
        "        random.shuffle(edges)\n",
        "\n",
        "        uf = UnionFind(len(nodes))\n",
        "        node_index = {node: i for i, node in enumerate(nodes)}\n",
        "        mst = []\n",
        "        cost = 0\n",
        "\n",
        "        for u, v, data in edges:\n",
        "            idx_u, idx_v = node_index[u], node_index[v]\n",
        "            if uf.union(idx_u, idx_v):\n",
        "                weight = data['weight']\n",
        "                mst.append((u, v, weight))\n",
        "                cost += weight\n",
        "                if len(mst) == len(nodes) - 1:\n",
        "                    break\n",
        "\n",
        "        if len(mst) == len(nodes) - 1 and cost < best_cost:\n",
        "            best_cost = cost\n",
        "            best_mst = mst\n",
        "\n",
        "    return best_mst"
      ]
    },
    {
      "cell_type": "markdown",
      "metadata": {
        "id": "EAu_0R35joBY"
      },
      "source": [
        "# **Four: Animation Functions**"
      ]
    },
    {
      "cell_type": "code",
      "execution_count": null,
      "metadata": {
        "id": "PrUi0D67julD"
      },
      "outputs": [],
      "source": [
        "from google.colab import files\n",
        "\n",
        "def visualize_mst_animation_kruskal(G_full, step=1, layout_func=nx.spring_layout, interval=1000, output_file=\"mst_animation.mp4\"):\n",
        "    # Load the full graph\n",
        "    pos = layout_func(G_full, k=1.0)\n",
        "\n",
        "    # Kruskal's MST + timing\n",
        "    start = time.time()\n",
        "    mst_edges = kruskal_mst_incremental(G_full)\n",
        "    end = time.time()\n",
        "    cost = sum(weight for u, v, weight in mst_edges)\n",
        "    round_cost=round(cost,2)\n",
        "    excution_time=round(end-start,4)\n",
        "\n",
        "\n",
        "    # Show metrics\n",
        "    print(\"✅ MST Total Cost: \",round_cost)\n",
        "    print(\"⏱️ Execution Time: \",excution_time,\" seconds\")\n",
        "    print(\"🎥 Saving animation to: \",output_file)\n",
        "\n",
        "    # Prepare animation graph\n",
        "    fig, ax = plt.subplots(figsize=(6, 5))\n",
        "\n",
        "    def init():\n",
        "        ax.clear()\n",
        "        nx.draw(G_full, pos, ax=ax, with_labels=True, node_color='lightgray', edge_color='lightgray')\n",
        "        ax.set_title(\"Initial Graph\")\n",
        "        return ax,\n",
        "\n",
        "    def update(frame):\n",
        "        ax.clear()\n",
        "        G = nx.Graph()\n",
        "        step_size = step\n",
        "        end_idx = min((frame + 1) * step_size, len(mst_edges))\n",
        "        edges_to_show = mst_edges[:end_idx]\n",
        "        G.add_weighted_edges_from(edges_to_show)\n",
        "        cost1 = sum(weight for u,v, weight in edges_to_show)\n",
        "        nx.draw(G, pos, ax=ax, with_labels=True, node_color='lightgreen', edge_color='blue', width=2)\n",
        "        ax.set_title(f\"Step {frame+1}, showing {len(edges_to_show)} edges, current cost: {cost1}\")\n",
        "        return ax,\n",
        "\n",
        "    num_steps = (len(mst_edges) + step- 1) // step  # Ceiling division\n",
        "    ani = animation.FuncAnimation(\n",
        "        fig, update, frames=num_steps, init_func=init, interval=interval,\n",
        "        blit=False, repeat=False\n",
        "    )\n",
        "\n",
        "    # Save video\n",
        "    ani.save(output_file, writer='ffmpeg', fps=1000//interval)\n",
        "    print(\"✅ Animation saved successfully.\")\n",
        "    # Also return interactive animation in notebook\n",
        "    plt.close()\n",
        "    return  HTML(ani.to_jshtml())"
      ]
    },
    {
      "cell_type": "code",
      "execution_count": null,
      "metadata": {
        "id": "2nlmvS0Nj5xP"
      },
      "outputs": [],
      "source": [
        "def visualize_mst_animation_prim_mst(G_full, step=1,layout_func=nx.spring_layout, interval=1000, output_file=\"mst_animation.mp4\"):\n",
        "    # Load the full graph\n",
        "    pos = layout_func(G_full, k=1.0)\n",
        "\n",
        "    # Kruskal's MST + timing\n",
        "    start = time.time()\n",
        "    mst_edges = prim_mst_incremental(G_full)\n",
        "    end = time.time()\n",
        "    cost = sum(weight for u,v, weight in mst_edges)\n",
        "    round_cost=round(cost,2)\n",
        "    excution_time=round(end-start,4)\n",
        "\n",
        "    # Show metrics\n",
        "    print(\"✅ MST Total Cost: \",round_cost)\n",
        "    print(\"⏱️ Execution Time: \",excution_time,\" seconds\")\n",
        "    print(\"🎥 Saving animation to: \", output_file)\n",
        "\n",
        "    # Prepare animation graph\n",
        "    fig, ax = plt.subplots(figsize=(6, 5))\n",
        "    cost=0\n",
        "    def init():\n",
        "        ax.clear()\n",
        "        nx.draw(G_full, pos, ax=ax, with_labels=True, node_color='lightgray', edge_color='lightgray')\n",
        "        ax.set_title(\"Initial Graph\")\n",
        "        return ax,\n",
        "\n",
        "    def update(frame):\n",
        "        ax.clear()\n",
        "        G = nx.Graph()\n",
        "        step_size = step\n",
        "        end_idx = min((frame + 1) * step_size, len(mst_edges))\n",
        "        edges_to_show = mst_edges[:end_idx]\n",
        "        G.add_weighted_edges_from(edges_to_show)\n",
        "        cost1 = sum(weight for u,v, weight in edges_to_show)\n",
        "        nx.draw(G, pos, ax=ax, with_labels=True, node_color='lightgreen', edge_color='blue', width=2)\n",
        "        ax.set_title(f\"Step {frame+1}, showing {len(edges_to_show)} edges, current cost: {cost1}\")\n",
        "        return ax,\n",
        "\n",
        "    num_steps = (len(mst_edges) + step- 1) // step  # Ceiling division\n",
        "    ani = animation.FuncAnimation(\n",
        "        fig, update, frames=num_steps, init_func=init, interval=interval,\n",
        "        blit=False, repeat=False\n",
        "    )\n",
        "\n",
        "    # Save video\n",
        "    ani.save(output_file, writer='ffmpeg', fps=1000//interval)\n",
        "    print(\"✅ Animation saved successfully.\")\n",
        "\n",
        "    # Also return interactive animation in notebook\n",
        "    plt.close()\n",
        "    return  HTML(ani.to_jshtml())"
      ]
    },
    {
      "cell_type": "code",
      "execution_count": null,
      "metadata": {
        "id": "QDFj1RFxuHoY"
      },
      "outputs": [],
      "source": [
        "def visualize_mst_animation_prim_mst_using_adj(G_full, step=1, layout_func=nx.spring_layout, interval=1000, output_file=\"prim_mst_animation.mp4\"):\n",
        "    # Load full graph\n",
        "    pos = layout_func(G_full, k=1.0)\n",
        "\n",
        "    # Optional: build adjacency list (for your own analysis if needed)\n",
        "    adj_list = {\n",
        "        node: [(nbr, G_full[node][nbr]['weight']) for nbr in G_full.neighbors(node)]\n",
        "        for node in G_full.nodes()\n",
        "    }\n",
        "\n",
        "    # Run Prim's MST algorithm and time it\n",
        "    start = time.time()\n",
        "    mst_edges = prim_mst_incremental_using_adj(adj_list)\n",
        "    end = time.time()\n",
        "    cost = sum(weight for u, v, weight in mst_edges)\n",
        "    cost=round(cost,2)\n",
        "    excution_time=round(end-start,4)\n",
        "\n",
        "\n",
        "    # Show metrics\n",
        "    print(\"✅ MST Total Cost: \",cost)\n",
        "    print(\"⏱️ Execution Time: \",excution_time,\" seconds\")\n",
        "    print(\"🎥 Saving animation to: \",output_file)\n",
        "\n",
        "    # Prepare for animation\n",
        "\n",
        "    fig, ax = plt.subplots(figsize=(6, 5))\n",
        "\n",
        "    def init():\n",
        "        ax.clear()\n",
        "        nx.draw(G_full, pos, ax=ax, with_labels=True, node_color='lightgray', edge_color='lightgray')\n",
        "        ax.set_title(\"Initial Graph\")\n",
        "        return ax,\n",
        "\n",
        "    def update(frame):\n",
        "        ax.clear()\n",
        "        G = nx.Graph()\n",
        "        step_size = step\n",
        "        end_idx = min((frame + 1) * step_size, len(mst_edges))\n",
        "        edges_to_show = mst_edges[:end_idx]\n",
        "        G.add_weighted_edges_from(edges_to_show)\n",
        "        cost1 = sum(weight for u,v, weight in edges_to_show)\n",
        "        nx.draw(G, pos, ax=ax, with_labels=True, node_color='lightgreen', edge_color='blue', width=2)\n",
        "        ax.set_title(f\"Step {frame+1}, showing {len(edges_to_show)} edges, current cost: {cost1}\")\n",
        "        return ax,\n",
        "\n",
        "    num_steps = (len(mst_edges) + step- 1) // step  # Ceiling division\n",
        "    ani = animation.FuncAnimation(\n",
        "        fig, update, frames=num_steps, init_func=init, interval=interval,\n",
        "        blit=False, repeat=False\n",
        "    )\n",
        "\n",
        "\n",
        "    ani.save(output_file, writer='ffmpeg', fps=1000//interval)\n",
        "    print(\"✅ Animation saved successfully.\")\n",
        "\n",
        "    plt.close()\n",
        "    return  HTML(ani.to_jshtml())"
      ]
    },
    {
      "cell_type": "code",
      "execution_count": null,
      "metadata": {
        "id": "w8_wcMt9kMch"
      },
      "outputs": [],
      "source": [
        "def visualize_mst_animation_boruvka_mst(G_full, step=1, layout_func=nx.spring_layout, interval=1000, output_file=\"mst_animation.mp4\"):\n",
        "    # Load the full graph\n",
        "    pos = layout_func(G_full, k=1.0)\n",
        "\n",
        "    # Kruskal's MST + timing\n",
        "    start = time.time()\n",
        "    mst_edges = boruvka_mst_incremental(G_full)\n",
        "    end = time.time()\n",
        "    cost = sum(weight for u, v, weight in mst_edges)\n",
        "    cost=round(cost,2)\n",
        "    excution_time=round(end-start,4)\n",
        "\n",
        "    # Show metrics\n",
        "    print(\"✅ MST Total Cost: \",cost)\n",
        "    print(\"⏱️ Execution Time: \",excution_time,\" seconds\")\n",
        "    print(\"🎥 Saving animation to: \",output_file)\n",
        "\n",
        "    # Prepare animation graph\n",
        "\n",
        "    fig, ax = plt.subplots(figsize=(6, 5))\n",
        "\n",
        "    def init():\n",
        "        ax.clear()\n",
        "        nx.draw(G_full, pos, ax=ax, with_labels=True, node_color='lightgray', edge_color='lightgray')\n",
        "        ax.set_title(\"Initial Graph\")\n",
        "        return ax,\n",
        "\n",
        "    def update(frame):\n",
        "        ax.clear()\n",
        "        G = nx.Graph()\n",
        "        step_size = step\n",
        "        end_idx = min((frame + 1) * step_size, len(mst_edges))\n",
        "        edges_to_show = mst_edges[:end_idx]\n",
        "        G.add_weighted_edges_from(edges_to_show)\n",
        "        cost1 = sum(weight for u,v, weight in edges_to_show)\n",
        "        nx.draw(G, pos, ax=ax, with_labels=True, node_color='lightgreen', edge_color='blue', width=2)\n",
        "        ax.set_title(f\"Step {frame+1}, showing {len(edges_to_show)} edges, current cost: {cost1}\")\n",
        "        return ax,\n",
        "\n",
        "    num_steps = (len(mst_edges) + step- 1) // step  # Ceiling division\n",
        "    ani = animation.FuncAnimation(\n",
        "        fig, update, frames=num_steps, init_func=init, interval=interval,\n",
        "        blit=False, repeat=False\n",
        "    )\n",
        "\n",
        "\n",
        "    # Save video\n",
        "    ani.save(output_file, writer='ffmpeg', fps=1000//interval)\n",
        "    print(\"✅ Animation saved successfully.\")\n",
        "\n",
        "    # Also return interactive animation in notebook\n",
        "    plt.close()\n",
        "    return  HTML(ani.to_jshtml())"
      ]
    },
    {
      "cell_type": "code",
      "execution_count": null,
      "metadata": {
        "id": "mOYLR_VlkRvK"
      },
      "outputs": [],
      "source": [
        "def visualize_mst_animation_reverse_delete_mst(G_full, step=1, layout_func=nx.spring_layout, interval=1000, output_file=\"mst_animation.mp4\"):\n",
        "    # Load the full graph\n",
        "    pos = layout_func(G_full, k=1.0)\n",
        "\n",
        "    # reverse's MST + timing\n",
        "    start = time.time()\n",
        "    mst_edges = reverse_delete_mst_incremental(G_full)\n",
        "    end = time.time()\n",
        "    cost = sum(weight for u, v, weight in mst_edges)\n",
        "    cost=round(cost,2)\n",
        "    excution_time=round(end-start,4)\n",
        "\n",
        "    # Show metrics\n",
        "    print(\"✅ MST Total Cost: \",cost)\n",
        "    print(\"⏱️ Execution Time: \",excution_time,\" seconds\")\n",
        "    print(\"🎥 Saving animation to: \",output_file)\n",
        "\n",
        "    # Prepare animation graph\n",
        "\n",
        "    fig, ax = plt.subplots(figsize=(6, 5))\n",
        "\n",
        "    def init():\n",
        "        ax.clear()\n",
        "        nx.draw(G_full, pos, ax=ax, with_labels=True, node_color='lightgray', edge_color='lightgray')\n",
        "        ax.set_title(\"Initial Graph\")\n",
        "        return ax,\n",
        "\n",
        "    def update(frame):\n",
        "        ax.clear()\n",
        "        G = nx.Graph()\n",
        "        step_size = step\n",
        "        end_idx = min((frame + 1) * step_size, len(mst_edges))\n",
        "        edges_to_show = mst_edges[:end_idx]\n",
        "        G.add_weighted_edges_from(edges_to_show)\n",
        "        cost1 = sum(weight for u,v, weight in edges_to_show)\n",
        "        nx.draw(G, pos, ax=ax, with_labels=True, node_color='lightgreen', edge_color='blue', width=2)\n",
        "        ax.set_title(f\"Step {frame+1}, showing {len(edges_to_show)} edges, current cost: {cost1}\")\n",
        "        return ax,\n",
        "\n",
        "    num_steps = (len(mst_edges) + step- 1) // step  # Ceiling division\n",
        "    ani = animation.FuncAnimation(\n",
        "        fig, update, frames=num_steps, init_func=init, interval=interval,\n",
        "        blit=False, repeat=False\n",
        "    )\n",
        "\n",
        "    # Save video\n",
        "    ani.save(output_file, writer='ffmpeg', fps=1000//interval)\n",
        "    print(\"✅ Animation saved successfully.\")\n",
        "\n",
        "    # Also return interactive animation in notebook\n",
        "    plt.close()\n",
        "    return  HTML(ani.to_jshtml())"
      ]
    },
    {
      "cell_type": "code",
      "execution_count": null,
      "metadata": {
        "id": "QmB9MfuHkWRc"
      },
      "outputs": [],
      "source": [
        "\n",
        "\n",
        "def visualize_mst_animation_karger_modified_mst(G_full, step=1, layout_func=nx.spring_layout, interval=1000, output_file=\"mst_animation.mp4\"):\n",
        "    # Load graph\n",
        "    pos = layout_func(G_full, k=1.0)\n",
        "\n",
        "    # Call your MST function\n",
        "    start = time.time()\n",
        "    mst_edges = karger_modified_mst(G_full)  # Returns (u, v, {'weight': x})\n",
        "    end = time.time()\n",
        "\n",
        "\n",
        "    if not mst_edges:\n",
        "        print(\"No MST found.\")\n",
        "        return\n",
        "\n",
        "    # Compute total cost\n",
        "    cost =sum(weight for u, v, weight in mst_edges)\n",
        "    cost=round(cost,2)\n",
        "    excution_time=round(end-start,4)\n",
        "\n",
        "    # Show metrics\n",
        "\n",
        "    print(\"✅ MST Total Cost: \",cost)\n",
        "    print(\"⏱️ Execution Time: \",excution_time,\" seconds\")\n",
        "    print(\"🎥 Saving animation to: \",output_file)\n",
        "\n",
        "    # Prepare animation\n",
        "\n",
        "    fig, ax = plt.subplots(figsize=(6, 5))\n",
        "\n",
        "    def init():\n",
        "        ax.clear()\n",
        "        nx.draw(G_full, pos, ax=ax, with_labels=True, node_color='lightgray', edge_color='lightgray')\n",
        "        ax.set_title(\"Initial Graph\")\n",
        "        return ax,\n",
        "\n",
        "    def update(frame):\n",
        "        ax.clear()\n",
        "        G = nx.Graph()\n",
        "        step_size = step\n",
        "        end_idx = min((frame + 1) * step_size, len(mst_edges))\n",
        "        edges_to_show = mst_edges[:end_idx]\n",
        "        G.add_weighted_edges_from(edges_to_show)\n",
        "        cost1 = sum(weight for u,v, weight in edges_to_show)\n",
        "        nx.draw(G, pos, ax=ax, with_labels=True, node_color='lightgreen', edge_color='blue', width=2)\n",
        "        ax.set_title(f\"Step {frame+1}, showing {len(edges_to_show)} edges, current cost: {cost1}\")\n",
        "        return ax,\n",
        "\n",
        "    num_steps = (len(mst_edges) + step - 1) // step  # Ceiling division\n",
        "    ani = animation.FuncAnimation(\n",
        "        fig, update, frames=num_steps, init_func=init, interval=interval,\n",
        "        blit=False, repeat=False\n",
        "    )\n",
        "\n",
        "    ani.save(output_file, writer='ffmpeg', fps=1000//interval)\n",
        "\n",
        "    plt.close()\n",
        "    print(\"✅ Animation saved successfully.\")\n",
        "\n",
        "    return  HTML(ani.to_jshtml())"
      ]
    },
    {
      "cell_type": "markdown",
      "metadata": {
        "id": "Geyt7Igokb7t"
      },
      "source": [
        "# **Five: Datasets**"
      ]
    },
    {
      "cell_type": "markdown",
      "metadata": {
        "id": "LQbfW6KIkhvF"
      },
      "source": [
        "*Dataset One: Florida*"
      ]
    },
    {
      "cell_type": "code",
      "execution_count": null,
      "metadata": {
        "id": "Ir13KuZpkzvh"
      },
      "outputs": [],
      "source": [
        "G_full=load_and_preprocess_network(\"/content/drive/MyDrive/analysis/eco-florida.edges\")"
      ]
    },
    {
      "cell_type": "code",
      "execution_count": null,
      "metadata": {
        "id": "uKRb2jZEknAf"
      },
      "outputs": [],
      "source": [
        "visualize_mst_animation_kruskal(G_full, output_file=\"eco_florida_mst_kruskal.mp4\")"
      ]
    },
    {
      "cell_type": "code",
      "execution_count": null,
      "metadata": {
        "id": "4x3yXH4Dvfdp"
      },
      "outputs": [],
      "source": [
        "files.download(\"eco_florida_mst_kruskal.mp4\")"
      ]
    },
    {
      "cell_type": "code",
      "execution_count": null,
      "metadata": {
        "id": "Qo6YhQGkldFc"
      },
      "outputs": [],
      "source": [
        "visualize_mst_animation_prim_mst(G_full, output_file=\"eco_florida_mst_prims.mp4\")"
      ]
    },
    {
      "cell_type": "code",
      "execution_count": null,
      "metadata": {
        "id": "64woB7BU883d"
      },
      "outputs": [],
      "source": [
        "files.download(\"eco_florida_mst_prims.mp4\")"
      ]
    },
    {
      "cell_type": "code",
      "execution_count": null,
      "metadata": {
        "id": "gS2-mBZ-uWQO"
      },
      "outputs": [],
      "source": [
        "visualize_mst_animation_prim_mst_using_adj(G_full, output_file=\"eco_florida_mst_prims_using_adj.mp4\")"
      ]
    },
    {
      "cell_type": "code",
      "execution_count": null,
      "metadata": {
        "id": "5uwfnJJq-O5O"
      },
      "outputs": [],
      "source": []
    },
    {
      "cell_type": "code",
      "execution_count": null,
      "metadata": {
        "id": "I_h9mjdNlyzi"
      },
      "outputs": [],
      "source": [
        "visualize_mst_animation_boruvka_mst(G_full, output_file=\"eco_florida_mst_boruvka.mp4\")"
      ]
    },
    {
      "cell_type": "code",
      "execution_count": null,
      "metadata": {
        "id": "7ckzu_qY9dEp"
      },
      "outputs": [],
      "source": []
    },
    {
      "cell_type": "code",
      "execution_count": null,
      "metadata": {
        "id": "5XpY0j-tl-f9"
      },
      "outputs": [],
      "source": [
        "visualize_mst_animation_reverse_delete_mst(G_full, output_file=\"eco_florida_mst_reverse_.mp4\")"
      ]
    },
    {
      "cell_type": "code",
      "execution_count": null,
      "metadata": {
        "id": "Cq9opMwP__ae"
      },
      "outputs": [],
      "source": []
    },
    {
      "cell_type": "code",
      "execution_count": null,
      "metadata": {
        "id": "Ux1LYgEqmQgN"
      },
      "outputs": [],
      "source": [
        "visualize_mst_animation_karger_modified_mst(G_full, output_file=\"eco_florida_mst_karger.mp4\")"
      ]
    },
    {
      "cell_type": "markdown",
      "metadata": {
        "id": "AR_WyQBTpTaK"
      },
      "source": [
        "*Dataset Two: Bio*"
      ]
    },
    {
      "cell_type": "code",
      "execution_count": null,
      "metadata": {
        "id": "gw0WG6YGv44D"
      },
      "outputs": [],
      "source": [
        "G_full=load_and_preprocess_network(\"/content/drive/MyDrive/analysis/dubcov1.edges\")"
      ]
    },
    {
      "cell_type": "code",
      "execution_count": null,
      "metadata": {
        "id": "FHLdUXdJxUND"
      },
      "outputs": [],
      "source": [
        "visualize_mst_animation_kruskal(G_full, step=500, output_file=\"Dubcova_kurskal.mp4\")"
      ]
    },
    {
      "cell_type": "code",
      "execution_count": null,
      "metadata": {
        "id": "bLBPgEgBCipg"
      },
      "outputs": [],
      "source": []
    },
    {
      "cell_type": "code",
      "execution_count": null,
      "metadata": {
        "id": "Druif0-Nxbx4"
      },
      "outputs": [],
      "source": [
        "visualize_mst_animation_prim_mst(G_full, step=500, output_file=\"Dubcov_primsa.mp4\")"
      ]
    },
    {
      "cell_type": "code",
      "execution_count": null,
      "metadata": {
        "id": "lh6JVevxCxgm"
      },
      "outputs": [],
      "source": []
    },
    {
      "cell_type": "code",
      "execution_count": null,
      "metadata": {
        "id": "w0Qr_1EwxiOC"
      },
      "outputs": [],
      "source": [
        "visualize_mst_animation_prim_mst_using_adj(G_full, step=500, output_file=\"Dubcova_prims_using_adj.mp4\")"
      ]
    },
    {
      "cell_type": "code",
      "execution_count": null,
      "metadata": {
        "id": "DXEbjP6HC50H"
      },
      "outputs": [],
      "source": []
    },
    {
      "cell_type": "code",
      "execution_count": null,
      "metadata": {
        "id": "6JzM_jOg4mVL"
      },
      "outputs": [],
      "source": [
        "visualize_mst_animation_boruvka_mst(G_full, step=500, output_file=\"Dubcova_boruvka.mp4\")"
      ]
    },
    {
      "cell_type": "code",
      "execution_count": null,
      "metadata": {
        "id": "pFlNzL7w7TwM"
      },
      "outputs": [],
      "source": [
        "visualize_mst_animation_reverse_delete_mst(G_full, step=500, output_file=\"Dubcova_reverse_delete.mp4\")"
      ]
    },
    {
      "cell_type": "code",
      "execution_count": null,
      "metadata": {
        "id": "H41CN6beDKva"
      },
      "outputs": [],
      "source": []
    },
    {
      "cell_type": "code",
      "execution_count": null,
      "metadata": {
        "collapsed": true,
        "id": "PAUIERO97zHA"
      },
      "outputs": [],
      "source": [
        "visualize_mst_animation_karger_modified_mst(G_full, step=500, output_file=\"Dubcova.mp4\")"
      ]
    },
    {
      "cell_type": "code",
      "execution_count": null,
      "metadata": {
        "id": "AzkSKUOaDR-W"
      },
      "outputs": [],
      "source": []
    },
    {
      "cell_type": "markdown",
      "metadata": {
        "id": "erCPdjRt67CY"
      },
      "source": [
        "*Dataset Three:*"
      ]
    },
    {
      "cell_type": "code",
      "execution_count": null,
      "metadata": {
        "id": "c4kzr3zA65-Y"
      },
      "outputs": [],
      "source": [
        "G_full=load_and_preprocess_network(\"/content/drive/MyDrive/Analysis/G12.edges\")"
      ]
    },
    {
      "cell_type": "code",
      "execution_count": null,
      "metadata": {
        "id": "KYZ6spRjCo05"
      },
      "outputs": [],
      "source": [
        "visualize_mst_animation_kruskal(G_full,  step=10, output_file=\"G12_kruskal.edges.mp4\")"
      ]
    },
    {
      "cell_type": "code",
      "execution_count": null,
      "metadata": {
        "id": "KmuQNS6cDZLY"
      },
      "outputs": [],
      "source": []
    },
    {
      "cell_type": "code",
      "execution_count": null,
      "metadata": {
        "id": "RxSEmlPXDaUB"
      },
      "outputs": [],
      "source": [
        "visualize_mst_animation_prim_mst(G_full, step=10, output_file=\"G12_prims.edges.mp4\")"
      ]
    },
    {
      "cell_type": "code",
      "execution_count": null,
      "metadata": {
        "id": "v41S3lx0DkyB"
      },
      "outputs": [],
      "source": []
    },
    {
      "cell_type": "code",
      "execution_count": null,
      "metadata": {
        "id": "ftrGmIhyEVrJ"
      },
      "outputs": [],
      "source": [
        "visualize_mst_animation_prim_mst_using_adj(G_full, step=10, output_file=\"G12_prims_using_adj.edges.mp4\")"
      ]
    },
    {
      "cell_type": "code",
      "execution_count": null,
      "metadata": {
        "id": "DU32SoMbUE5z"
      },
      "outputs": [],
      "source": [
        "visualize_mst_animation_boruvka_mst(G_full, step=10, output_file=\"G12_boruvka.edges.mp4\")"
      ]
    },
    {
      "cell_type": "code",
      "execution_count": null,
      "metadata": {
        "id": "JJ7kgVpfEBx8"
      },
      "outputs": [],
      "source": []
    },
    {
      "cell_type": "code",
      "execution_count": null,
      "metadata": {
        "id": "_pFy1LtTUGZE"
      },
      "outputs": [],
      "source": [
        "visualize_mst_animation_reverse_delete_mst(G_full, step=10, output_file=\"G12_reverse_delete.edges.mp4\")"
      ]
    },
    {
      "cell_type": "code",
      "execution_count": null,
      "metadata": {
        "id": "QA-LV7OJEEvA"
      },
      "outputs": [],
      "source": []
    },
    {
      "cell_type": "code",
      "execution_count": null,
      "metadata": {
        "id": "fevnvhkqUHB6"
      },
      "outputs": [],
      "source": [
        "visualize_mst_animation_karger_modified_mst(G_full, step=10, output_file=\"G12_karger.edges.mp4\")"
      ]
    },
    {
      "cell_type": "code",
      "execution_count": null,
      "metadata": {
        "id": "lr2g-AsIEHXt"
      },
      "outputs": [],
      "source": []
    },
    {
      "cell_type": "markdown",
      "metadata": {
        "id": "F7K5bEws1M0e"
      },
      "source": [
        "*Dataset Four: GaAsH6*"
      ]
    },
    {
      "cell_type": "code",
      "execution_count": null,
      "metadata": {
        "id": "5_pY5J74Ivpw"
      },
      "outputs": [],
      "source": [
        "# GaAsH6 dataset\n",
        "# kruskal MST computation on full data set\n",
        "import networkx as nx, time, pandas as pd\n",
        "\n",
        "G_full = nx.read_weighted_edgelist(\"/content/drive/MyDrive/analysis/GaAsH6.edges\", nodetype=int)\n",
        "\n",
        "\n",
        "\n",
        "t0 = time.time()\n",
        "mst_edges = kruskal_mst_incremental(G_full)\n",
        "kr_cost = (mst_edges.size(weight=\"weight\")\n",
        "           if isinstance(mst_edges, nx.Graph)\n",
        "           else sum(w for _, _, w in mst_edges))\n",
        "print(f\"Kruskal  MST cost: {kr_cost}\")\n",
        "print(f\"Kruskal  time (s): {round(time.time()-t0, 2)}\")"
      ]
    },
    {
      "cell_type": "code",
      "execution_count": null,
      "metadata": {
        "id": "EQns-FWyIw7L"
      },
      "outputs": [],
      "source": [
        "# prim MST computation on full data set\n",
        "t0 = time.time()\n",
        "mst_edges = prim_mst_incremental(G_full)\n",
        "pr_cost   = (mst_edges.size(weight=\"weight\")\n",
        "             if isinstance(mst_edges, nx.Graph)\n",
        "             else sum(w for _,_,w in mst_edges))\n",
        "print(f\"Prim     MST cost: {pr_cost}\")\n",
        "print(f\"Prim     time (s): {round(time.time()-t0,2)}\")\n"
      ]
    },
    {
      "cell_type": "code",
      "execution_count": null,
      "metadata": {
        "id": "oUiGnofMI0ua"
      },
      "outputs": [],
      "source": [
        "# boruvka MST computation on full data set\n",
        "t0 = time.time()\n",
        "mst_edges = boruvka_mst_incremental(G_full)\n",
        "bo_cost   = (mst_edges.size(weight=\"weight\")\n",
        "             if isinstance(mst_edges, nx.Graph)\n",
        "             else sum(w for _,_,w in mst_edges))\n",
        "print(f\"Borůvka  MST cost: {bo_cost}\")\n",
        "print(f\"Borůvka  time (s): {round(time.time()-t0,2)}\")"
      ]
    },
    {
      "cell_type": "code",
      "execution_count": null,
      "metadata": {
        "id": "UTSUzTy3I3hx"
      },
      "outputs": [],
      "source": [
        "# reverse delete MST computation on full data set\n",
        "t0 = time.time()\n",
        "mst_edges = reverse_delete_mst_incremental(G_full)\n",
        "rd_cost   = (mst_edges.size(weight=\"weight\")\n",
        "             if isinstance(mst_edges, nx.Graph)\n",
        "             else sum(w for _,_,w in mst_edges))\n",
        "print(f\"Rev-Del  MST cost: {rd_cost}\")\n",
        "print(f\"Rev-Del  time (s): {round(time.time()-t0,2)}\")"
      ]
    },
    {
      "cell_type": "code",
      "execution_count": null,
      "metadata": {
        "id": "GR04-PmVI8iH"
      },
      "outputs": [],
      "source": [
        "# karger MST computation on full data set\n",
        "t0 = time.time()\n",
        "mst_edges = karger_modified_mst(G_full, iterations=60)\n",
        "kg_cost   = (mst_edges.size(weight=\"weight\")\n",
        "             if isinstance(mst_edges, nx.Graph)\n",
        "             else sum(w for _,_,w in mst_edges))\n",
        "print(f\"Karger≈  MST cost: {kg_cost}\")\n",
        "print(f\"Karger≈  time (s): {round(time.time()-t0,2)}\")"
      ]
    },
    {
      "cell_type": "code",
      "execution_count": null,
      "metadata": {
        "id": "6WGH5RhVI_f4"
      },
      "outputs": [],
      "source": [
        "# Data sample for visualization\n",
        "import networkx as nx, random\n",
        "\n",
        "Path = \"/content/drive/MyDrive/analysis/GaAsH6.edges\"\n",
        "G_gaas = nx.read_weighted_edgelist(Path, nodetype=int)\n",
        "\n",
        "nodes_1k = random.sample(list(G_full.nodes()), 1000)\n",
        "\n",
        "G_1k = G_gaas.subgraph(nodes_1k).copy()\n",
        "\n",
        "# Keep only the largest connected component (needed for MST)\n",
        "if not nx.is_connected(G_1k):\n",
        "    G_1k = G_1k.subgraph(max(nx.connected_components(G_1k), key=len)).copy()\n",
        "\n",
        "print(\"Sub-graph =\", G_1k.number_of_nodes(), \"nodes |\",\n",
        "                    G_1k.number_of_edges(), \"edges\")\n",
        "\n",
        "\n",
        "nx.write_weighted_edgelist(G_1k, \"/content/drive/MyDrive/analysis/GaAsH6_sample_1k.edges\")"
      ]
    },
    {
      "cell_type": "code",
      "execution_count": null,
      "metadata": {
        "id": "dKnJAwT9JCWz"
      },
      "outputs": [],
      "source": [
        "G_gaas = load_and_preprocess_network(\"/content/drive/MyDrive/analysis/GaAsH6_sample_1k.edges\")"
      ]
    },
    {
      "cell_type": "code",
      "execution_count": null,
      "metadata": {
        "id": "FRNMKtRQJFa-"
      },
      "outputs": [],
      "source": [
        "visualize_mst_animation_kruskal(G_gaas, output_file=\"GaAsH6_sample_mst_kruskal.mp4\")"
      ]
    },
    {
      "cell_type": "code",
      "execution_count": null,
      "metadata": {
        "id": "Lb6qSy2wJJVW"
      },
      "outputs": [],
      "source": [
        "files.download(\"GaAsH6_sample_mst_kruskal.mp4\")"
      ]
    },
    {
      "cell_type": "code",
      "execution_count": null,
      "metadata": {
        "id": "BntQTU9sJNXE"
      },
      "outputs": [],
      "source": [
        "file_name = visualize_mst_animation_prim_mst(G_gaas, output_file=\"GaAsH6_mst_prims.mp4\")"
      ]
    },
    {
      "cell_type": "code",
      "execution_count": null,
      "metadata": {
        "id": "-koJqPtNJXvz"
      },
      "outputs": [],
      "source": [
        "files.download(file_name)"
      ]
    },
    {
      "cell_type": "code",
      "execution_count": null,
      "metadata": {
        "id": "13Ck4vuqJbVU"
      },
      "outputs": [],
      "source": [
        "file_name=visualize_mst_animation_prim_mst_using_adj(G_gaas, output_file=\"GaAsH6_mst_prims_using_adj.mp4\")"
      ]
    },
    {
      "cell_type": "code",
      "execution_count": null,
      "metadata": {
        "id": "TqLOahuNJem_"
      },
      "outputs": [],
      "source": [
        "files.download(file_name)"
      ]
    },
    {
      "cell_type": "code",
      "execution_count": null,
      "metadata": {
        "id": "L3X6B8M4JfR-"
      },
      "outputs": [],
      "source": [
        "file_name=visualize_mst_animation_boruvka_mst(G_gaas, output_file=\"GaAsH6_mst_boruvka.mp4\")"
      ]
    },
    {
      "cell_type": "code",
      "execution_count": null,
      "metadata": {
        "id": "ygxYNKQkJfZq"
      },
      "outputs": [],
      "source": [
        "files.download(file_name)"
      ]
    },
    {
      "cell_type": "code",
      "execution_count": null,
      "metadata": {
        "id": "OsZlIJevJim6"
      },
      "outputs": [],
      "source": [
        "file_name=visualize_mst_animation_reverse_delete_mst(G_gaas, output_file=\"GaAsH6_mst_karger.mp4\")"
      ]
    },
    {
      "cell_type": "code",
      "execution_count": null,
      "metadata": {
        "id": "pTBDgZR7Ji1N"
      },
      "outputs": [],
      "source": [
        "files.download(file_name)"
      ]
    },
    {
      "cell_type": "code",
      "execution_count": null,
      "metadata": {
        "id": "cmHnw-67JpDQ"
      },
      "outputs": [],
      "source": [
        "file_name=visualize_mst_animation_karger_modified_mst(G_full, step=10, output_file=\"GaAsH6_karger.edges.mp4\")"
      ]
    },
    {
      "cell_type": "code",
      "execution_count": null,
      "metadata": {
        "id": "ZXMJbZT6JpI1"
      },
      "outputs": [],
      "source": [
        "files.download(file_name)"
      ]
    },
    {
      "cell_type": "markdown",
      "source": [
        "*Dataset Six: FullChip*"
      ],
      "metadata": {
        "id": "E6chAGi865xu"
      }
    },
    {
      "cell_type": "code",
      "execution_count": null,
      "metadata": {
        "id": "Kh0cPDBAJpu3"
      },
      "outputs": [],
      "source": [
        "# Full chip dataset\n",
        "# kursal MST computation on full data set\n",
        "import networkx as nx\n",
        "import time\n",
        "\n",
        "FULL_PATH = \"/content/drive/MyDrive/analysis/FullChip.edges\"\n",
        "G_fullchip = nx.read_weighted_edgelist(FULL_PATH, nodetype=int, comments=\"%\")\n",
        "\n",
        "\n",
        "t0 = time.time()\n",
        "mst_kr = nx.minimum_spanning_tree(G_fullchip, algorithm=\"kruskal\")\n",
        "kr_cost = mst_kr.size(weight=\"weight\")\n",
        "print(\"Kruskal  MST cost:\", kr_cost)\n",
        "print(\"Kruskal  time (s):\", round(time.time()-t0, 2))"
      ]
    },
    {
      "cell_type": "code",
      "execution_count": null,
      "metadata": {
        "id": "kshr8oq8Jp0D"
      },
      "outputs": [],
      "source": [
        "# prim MST computation on full data set\n",
        "t0 = time.time()\n",
        "mst_pr = nx.minimum_spanning_tree(G_fullchip, algorithm=\"prim\")\n",
        "pr_cost = mst_pr.size(weight=\"weight\")\n",
        "print(\"Prim     MST cost:\", pr_cost)\n",
        "print(\"Prim     time (s):\", round(time.time()-t0, 2))"
      ]
    },
    {
      "cell_type": "code",
      "execution_count": null,
      "metadata": {
        "id": "CukFCAu7JxZO"
      },
      "outputs": [],
      "source": [
        "# boruvka MST computation on full data set\n",
        "t0 = time.time()\n",
        "mst_edges = boruvka_mst_incremental(G_full)\n",
        "bo_cost   = (mst_edges.size(weight=\"weight\")\n",
        "             if isinstance(mst_edges, nx.Graph)\n",
        "             else sum(w for _,_,w in mst_edges))\n",
        "print(f\"Borůvka  MST cost: {bo_cost}\")\n",
        "print(f\"Borůvka  time (s): {round(time.time()-t0,2)}\")"
      ]
    },
    {
      "cell_type": "code",
      "execution_count": null,
      "metadata": {
        "id": "Zfg2_TjdJznZ"
      },
      "outputs": [],
      "source": [
        "# karger MST computation on full data set\n",
        "t0 = time.time()\n",
        "mst_edges = karger_modified_mst(G_full, iterations=60)\n",
        "kg_cost   = (mst_edges.size(weight=\"weight\")\n",
        "             if isinstance(mst_edges, nx.Graph)\n",
        "             else sum(w for _,_,w in mst_edges))\n",
        "print(f\"Karger≈  MST cost: {kg_cost}\")\n",
        "print(f\"Karger≈  time (s): {round(time.time()-t0,2)}\")"
      ]
    },
    {
      "cell_type": "code",
      "execution_count": null,
      "metadata": {
        "id": "fLuMs8S-J18r"
      },
      "outputs": [],
      "source": [
        "# reverse delete MST computation on full data set\n",
        "t0 = time.time()\n",
        "mst_edges = reverse_delete_mst_incremental(G_full)\n",
        "rd_cost   = (mst_edges.size(weight=\"weight\")\n",
        "             if isinstance(mst_edges, nx.Graph)\n",
        "             else sum(w for _,_,w in mst_edges))\n",
        "print(f\"Rev-Del  MST cost: {rd_cost}\")\n",
        "print(f\"Rev-Del  time (s): {round(time.time()-t0,2)}\")"
      ]
    },
    {
      "cell_type": "code",
      "execution_count": null,
      "metadata": {
        "id": "Qx1QAuu2J4mD"
      },
      "outputs": [],
      "source": [
        "import networkx as nx, random\n",
        "import networkx as nx, random, os\n",
        "\n",
        "RAW_PATH      = \"/content/drive/MyDrive/analysis/FullChip.edges\"  # original file\n",
        "TARGET_EDGES  = 1_000     # edges to keep for visualisation\n",
        "TARGET_NODES  = 1_000       #  node cap\n",
        "SAVE_DIR      = \"/content/drive/MyDrive/analysis\"\n",
        "\n",
        "\n",
        "#load raw graph and drop self-loops\n",
        "G_full = nx.read_weighted_edgelist(RAW_PATH, nodetype=int, comments=\"%\")\n",
        "G_full.remove_edges_from(nx.selfloop_edges(G_full))\n",
        "\n",
        "#sample random edges\n",
        "sampled_edges = random.sample(\n",
        "    list(G_full.edges(data=True)),\n",
        "    min(TARGET_EDGES, G_full.number_of_edges())\n",
        ")\n",
        "\n",
        "G_vis = nx.Graph()\n",
        "G_vis.add_weighted_edges_from(\n",
        "    [(u, v, d[\"weight\"]) for u, v, d in sampled_edges]\n",
        ")\n",
        "\n",
        "#keep the largest connected component\n",
        "if not nx.is_connected(G_vis):\n",
        "    G_vis = G_vis.subgraph(max(nx.connected_components(G_vis), key=len)).copy()\n",
        "\n",
        "#trim to TARGET_NODES\n",
        "if G_vis.number_of_nodes() > TARGET_NODES:\n",
        "    keep = random.sample(list(G_vis.nodes()), TARGET_NODES)\n",
        "    G_vis = G_vis.subgraph(keep).copy()\n",
        "\n",
        "print(f\"Sample graph → {G_vis.number_of_nodes()} nodes | {G_vis.number_of_edges()} edges\")\n",
        "\n",
        "#save sample\n",
        "sample_name = f\"FullChip_sample_{G_vis.number_of_nodes()}n_{G_vis.number_of_edges()}e.edges\"\n",
        "sample_path = os.path.join(SAVE_DIR, sample_name)\n",
        "nx.write_weighted_edgelist(G_vis, sample_path)\n",
        "print(\"Saved to:\", sample_path)\n",
        "\n",
        "\n",
        "G_sample = load_and_preprocess_network(sample_path)  #ready for MST functions"
      ]
    },
    {
      "cell_type": "code",
      "execution_count": null,
      "metadata": {
        "id": "aAzs0vdmJ7NS"
      },
      "outputs": [],
      "source": [
        "for u, v, d in G_sample.edges(data=True):\n",
        "    d['weight'] *= 10000"
      ]
    },
    {
      "cell_type": "code",
      "execution_count": null,
      "metadata": {
        "id": "SjFOJy7mJ9gj"
      },
      "outputs": [],
      "source": [
        "# Kruskal's Algorithm\n",
        "visualize_mst_animation_kruskal(G_full, output_file=\"fullchip_mst_kruskal.mp4\")\n",
        "files.download(\"fullchip_mst_kruskal.mp4\")"
      ]
    },
    {
      "cell_type": "code",
      "execution_count": null,
      "metadata": {
        "id": "_KtZ_zXFJ_e_"
      },
      "outputs": [],
      "source": [
        "# Prim's Algorithm\n",
        "visualize_mst_animation_prim_mst(G_full, output_file=\"fullchip_mst_prims.mp4\")\n",
        "files.download(\"fullchip_mst_prims.mp4\")"
      ]
    },
    {
      "cell_type": "code",
      "execution_count": null,
      "metadata": {
        "id": "ilCLZCLRKBlr"
      },
      "outputs": [],
      "source": [
        "# Prim's Algorithm (Using Adjacency List)\n",
        "file_name = visualize_mst_animation_prim_mst_using_adj(G_full, output_file=\"fullchip_mst_prims_using_adj.mp4\")\n",
        "files.download(file_name)"
      ]
    },
    {
      "cell_type": "code",
      "execution_count": null,
      "metadata": {
        "id": "PucSj7liKD7V"
      },
      "outputs": [],
      "source": [
        "# Borůvka's Algorithm\n",
        "file_name = visualize_mst_animation_boruvka_mst(G_full, output_file=\"fullchip_mst_boruvka.mp4\")\n",
        "files.download(file_name)\n"
      ]
    },
    {
      "cell_type": "code",
      "execution_count": null,
      "metadata": {
        "id": "6-7FAQrsKP6e"
      },
      "outputs": [],
      "source": [
        "# Reverse Delete Algorithm\n",
        "file_name = visualize_mst_animation_reverse_delete_mst(G_full, output_file=\"fullchip_mst_reverse.mp4\")\n",
        "files.download(file_name)"
      ]
    },
    {
      "cell_type": "code",
      "execution_count": null,
      "metadata": {
        "id": "20JtP75_KQd4"
      },
      "outputs": [],
      "source": [
        "\n",
        "files.download(visualize_mst_animation_karger_modified_mst(G_sample, output_file=\"fullchip_karger.edges.mp4\"))"
      ]
    },
    {
      "cell_type": "code",
      "execution_count": null,
      "metadata": {
        "id": "KAnic60SKS2x"
      },
      "outputs": [],
      "source": []
    }
  ],
  "metadata": {
    "colab": {
      "provenance": []
    },
    "kernelspec": {
      "display_name": "Python 3",
      "name": "python3"
    },
    "language_info": {
      "name": "python"
    }
  },
  "nbformat": 4,
  "nbformat_minor": 0
}